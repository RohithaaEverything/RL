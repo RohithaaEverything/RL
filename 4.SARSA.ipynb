{
 "cells": [
  {
   "cell_type": "code",
   "execution_count": 6,
   "id": "8e4ce5dc",
   "metadata": {},
   "outputs": [
    {
     "name": "stdout",
     "output_type": "stream",
     "text": [
      "Learned Q-values:\n",
      "Q(Round 1, quit) = 34663.52558414966\n",
      "Q(Round 1, stay_correct) = 53713.417209324805\n",
      "Q(Round 1, pass) = 26508.017698668667\n",
      "Q(Round 2, quit) = 22947.47187117827\n",
      "Q(Round 2, stay_correct) = 37869.78484414814\n",
      "Q(Round 2, pass) = 14560.51384686524\n",
      "Q(Round 3, quit) = 4999.115178272861\n",
      "Q(Round 3, stay_correct) = 19999.999999999985\n",
      "Q(Round 3, pass) = -1954.9432009101215\n",
      "Q(Round 4, quit) = 0\n",
      "Q(Round 4, stay_correct) = 0\n",
      "Q(Round 4, pass) = 0\n"
     ]
    }
   ],
   "source": [
    "import numpy as np\n",
    "\n",
    "# Define parameters\n",
    "alpha = 0.1  # Learning rate\n",
    "gamma = 0.9  # Discount factor\n",
    "epsilon = 0.1  # Epsilon-greedy exploration rate\n",
    "num_episodes = 1000\n",
    "\n",
    "# Define state space\n",
    "states = ['Round 1', 'Round 2', 'Round 3', 'Round 4']\n",
    "\n",
    "# Define action space\n",
    "actions = ['quit', 'stay_correct', 'pass']\n",
    "\n",
    "# Initialize Q-values\n",
    "Q = {(s, a): 0 for s in states for a in actions}\n",
    "\n",
    "# Define immediate rewards for each action in each state\n",
    "rewards = {\n",
    "    'Round 1': {'quit': 5000, 'stay_correct': 20000, 'pass': -2000},\n",
    "    'Round 2': {'quit': 5000, 'stay_correct': 20000, 'pass': -2000},\n",
    "    'Round 3': {'quit': 5000, 'stay_correct': 20000, 'pass': -2000},\n",
    "    'Round 4': {'quit': 5000, 'stay_correct': 20000, 'pass': -2000}\n",
    "}\n",
    "\n",
    "# SARSA algorithm\n",
    "for episode in range(num_episodes):\n",
    "    # Initialize state\n",
    "    state = 'Round 1'\n",
    "    \n",
    "    # Choose action using epsilon-greedy policy\n",
    "    if np.random.rand() < epsilon:\n",
    "        action = np.random.choice(actions)\n",
    "    else:\n",
    "        action = max(actions, key=lambda a: Q[(state, a)])\n",
    "    \n",
    "    # Execute episode\n",
    "    while state != 'Round 4':\n",
    "        # Take action and observe next state and reward\n",
    "        next_state = states[states.index(state) + 1]\n",
    "        reward = rewards[state][action]\n",
    "        \n",
    "        # Choose next action using epsilon-greedy policy\n",
    "        if np.random.rand() < epsilon:\n",
    "            next_action = np.random.choice(actions)\n",
    "        else:\n",
    "            next_action = max(actions, key=lambda a: Q[(next_state, a)])\n",
    "        \n",
    "        # Update Q-value\n",
    "        Q[(state, action)] += alpha * (reward + gamma * Q[(next_state, next_action)] - Q[(state, action)])\n",
    "        \n",
    "        # Transition to next state and action\n",
    "        state = next_state\n",
    "        action = next_action\n",
    "\n",
    "# Print the learned Q-values\n",
    "print(\"Learned Q-values:\")\n",
    "for state in states:\n",
    "    for action in actions:\n",
    "        print(f\"Q({state}, {action}) = {Q[(state, action)]}\")"
   ]
  },
  {
   "cell_type": "code",
   "execution_count": null,
   "id": "99a65b32",
   "metadata": {},
   "outputs": [],
   "source": []
  }
 ],
 "metadata": {
  "kernelspec": {
   "display_name": "Python 3 (ipykernel)",
   "language": "python",
   "name": "python3"
  },
  "language_info": {
   "codemirror_mode": {
    "name": "ipython",
    "version": 3
   },
   "file_extension": ".py",
   "mimetype": "text/x-python",
   "name": "python",
   "nbconvert_exporter": "python",
   "pygments_lexer": "ipython3",
   "version": "3.10.9"
  }
 },
 "nbformat": 4,
 "nbformat_minor": 5
}
