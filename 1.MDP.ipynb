{
 "cells": [
  {
   "cell_type": "code",
   "execution_count": 2,
   "id": "803aceb1",
   "metadata": {},
   "outputs": [
    {
     "name": "stdout",
     "output_type": "stream",
     "text": [
      "Enter no.of Blocks: 7\n",
      "Enter the Goal Block: 4\n",
      "[[0. 0. 0. 0. 0. 0. 0. 0.]\n",
      " [0. 0. 0. 0. 0. 0. 0. 0.]\n",
      " [0. 0. 0. 0. 0. 0. 0. 0.]\n",
      " [0. 0. 0. 0. 0. 0. 0. 0.]\n",
      " [0. 0. 0. 0. 0. 0. 0. 0.]\n",
      " [0. 0. 0. 0. 0. 0. 0. 0.]\n",
      " [0. 0. 0. 0. 0. 0. 0. 0.]\n",
      " [0. 0. 0. 0. 0. 0. 0. 0.]]\n",
      "1\n",
      "2\n",
      "3\n",
      "4\n",
      "5\n",
      "6\n",
      "Minimum travel time to reach block 4 is 1 minutes.\n"
     ]
    }
   ],
   "source": [
    "import numpy as np\n",
    "def minimize_travel_time(n, goal):\n",
    "    P = np.zeros((n + 1, n + 1))\n",
    "    print(P)\n",
    "    for i in range(1, n):\n",
    "        print(i)\n",
    "        P[i, i + 1] = 0.5  \n",
    "        P[i, min(2*i, n)] = 0.5  \n",
    "\n",
    "    V = np.zeros(n + 1)\n",
    "    theta = 1e-5  \n",
    "    discount = 1.0  \n",
    "\n",
    "    while True:\n",
    "        delta = 0\n",
    "        for s in range(1, n):\n",
    "            v = V[s]\n",
    "            V[s] = np.max([1 + discount * np.dot(P[s, :], V)])\n",
    "            delta = max(delta, abs(v - V[s]))\n",
    "        if delta < theta:\n",
    "            break\n",
    "    return int(V[goal])\n",
    "\n",
    "n = int(input(\"Enter no.of Blocks: \"))\n",
    "goal_block = int(input(\"Enter the Goal Block: \"))\n",
    "\n",
    "result = minimize_travel_time(n, goal_block)\n",
    "print(\"Minimum travel time to reach block\", goal_block, \"is\", result, \"minutes.\")"
   ]
  },
  {
   "cell_type": "code",
   "execution_count": null,
   "id": "d71774d9",
   "metadata": {},
   "outputs": [],
   "source": []
  }
 ],
 "metadata": {
  "kernelspec": {
   "display_name": "Python 3 (ipykernel)",
   "language": "python",
   "name": "python3"
  },
  "language_info": {
   "codemirror_mode": {
    "name": "ipython",
    "version": 3
   },
   "file_extension": ".py",
   "mimetype": "text/x-python",
   "name": "python",
   "nbconvert_exporter": "python",
   "pygments_lexer": "ipython3",
   "version": "3.10.9"
  }
 },
 "nbformat": 4,
 "nbformat_minor": 5
}
