{
 "cells": [
  {
   "cell_type": "code",
   "execution_count": 5,
   "id": "b353aaba",
   "metadata": {},
   "outputs": [
    {
     "name": "stdout",
     "output_type": "stream",
     "text": [
      "Learned Q-values:\n",
      "Q(Round 1, quit) = 39199.99999999993\n",
      "Q(Round 1, stay_correct) = 54199.99999999993\n",
      "Q(Round 1, pass) = 31098.202254227395\n",
      "Q(Round 2, quit) = 21273.670485215014\n",
      "Q(Round 2, stay_correct) = 37999.999999999956\n",
      "Q(Round 2, pass) = 14720.89702888794\n",
      "Q(Round 3, quit) = 4993.449897456812\n",
      "Q(Round 3, stay_correct) = 19999.999999999985\n",
      "Q(Round 3, pass) = -1944.374322111261\n",
      "Q(Round 4, quit) = 0\n",
      "Q(Round 4, stay_correct) = 0\n",
      "Q(Round 4, pass) = 0\n"
     ]
    }
   ],
   "source": [
    "import numpy as np\n",
    "alpha = 0.1  # Learning rate\n",
    "gamma = 0.9  # Discount factor\n",
    "epsilon = 0.1  # Epsilon-greedy exploration rate\n",
    "num_episodes = 1000  # Number of episodes\n",
    "\n",
    "# Define state space\n",
    "states = ['Round 1', 'Round 2', 'Round 3', 'Round 4']\n",
    "\n",
    "# Define action space\n",
    "actions = ['quit', 'stay_correct', 'pass']\n",
    "\n",
    "# Initialize Q-values\n",
    "Q = {(s, a): 0 for s in states for a in actions}\n",
    "\n",
    "# Define sequence of utilities for each action in each state\n",
    "utilities = {\n",
    "    'Round 1': {'quit': 5000, 'stay_correct': 20000, 'pass': -2000},\n",
    "    'Round 2': {'quit': 5000, 'stay_correct': 20000, 'pass': -2000},\n",
    "    'Round 3': {'quit': 5000, 'stay_correct': 20000, 'pass': -2000},\n",
    "    'Round 4': {'quit': 5000, 'stay_correct': 20000, 'pass': -2000}\n",
    "}\n",
    "\n",
    "# Q-learning algorithm\n",
    "for episode in range(num_episodes):\n",
    "    # Initialize state\n",
    "    state = 'Round 1'\n",
    "    \n",
    "    # Execute episode\n",
    "    while state != 'Round 4':\n",
    "        # Choose action using epsilon-greedy policy\n",
    "        if np.random.rand() < epsilon:\n",
    "            action = np.random.choice(actions)\n",
    "        else:\n",
    "            action = max(actions, key=lambda a: Q[(state, a)])\n",
    "        \n",
    "        # Take action and observe next state\n",
    "        next_state = states[states.index(state) + 1]\n",
    "        \n",
    "        # Observe utility for the chosen action in the current state\n",
    "        utility = utilities[state][action]\n",
    "        \n",
    "        # Update Q-value\n",
    "        Q[(state, action)] += alpha * (utility + gamma * max(Q[(next_state, a)] for a in actions) - Q[(state, action)])\n",
    "        \n",
    "        # Transition to next state\n",
    "        state = next_state\n",
    "\n",
    "print(\"Learned Q-values:\")\n",
    "for state in states:\n",
    "    for action in actions:\n",
    "        print(f\"Q({state}, {action}) = {Q[(state, action)]}\")"
   ]
  },
  {
   "cell_type": "code",
   "execution_count": null,
   "id": "c052d5c0",
   "metadata": {},
   "outputs": [],
   "source": []
  }
 ],
 "metadata": {
  "kernelspec": {
   "display_name": "Python 3 (ipykernel)",
   "language": "python",
   "name": "python3"
  },
  "language_info": {
   "codemirror_mode": {
    "name": "ipython",
    "version": 3
   },
   "file_extension": ".py",
   "mimetype": "text/x-python",
   "name": "python",
   "nbconvert_exporter": "python",
   "pygments_lexer": "ipython3",
   "version": "3.10.9"
  }
 },
 "nbformat": 4,
 "nbformat_minor": 5
}
