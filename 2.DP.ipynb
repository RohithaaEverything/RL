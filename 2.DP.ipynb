{
 "cells": [
  {
   "cell_type": "code",
   "execution_count": 4,
   "id": "69dd6a1c",
   "metadata": {},
   "outputs": [
    {
     "name": "stdout",
     "output_type": "stream",
     "text": [
      "Minimum travel time to reach block 6 is 3 minutes.\n"
     ]
    }
   ],
   "source": [
    "def minimize_travel_time_dp(n, goal):\n",
    "    dp = [float('inf')] * (n + 1)\n",
    "    dp[1] = 0  \n",
    "\n",
    "    for i in range(1, n):\n",
    "        dp[i + 1] = min(dp[i + 1], dp[i] + 1) \n",
    "        dp[min(2*i, n)] = min(dp[min(2*i, n)], dp[i] + 2)  \n",
    "\n",
    "    return dp[goal]\n",
    "\n",
    "n = 10  \n",
    "goal_block = 6  \n",
    "result_dp = minimize_travel_time_dp(n, goal_block)\n",
    "print(\"Minimum travel time to reach block\", goal_block, \"is\", result_dp-1, \"minutes.\")"
   ]
  },
  {
   "cell_type": "code",
   "execution_count": null,
   "id": "a7d9fece",
   "metadata": {},
   "outputs": [],
   "source": []
  }
 ],
 "metadata": {
  "kernelspec": {
   "display_name": "Python 3 (ipykernel)",
   "language": "python",
   "name": "python3"
  },
  "language_info": {
   "codemirror_mode": {
    "name": "ipython",
    "version": 3
   },
   "file_extension": ".py",
   "mimetype": "text/x-python",
   "name": "python",
   "nbconvert_exporter": "python",
   "pygments_lexer": "ipython3",
   "version": "3.10.9"
  }
 },
 "nbformat": 4,
 "nbformat_minor": 5
}
