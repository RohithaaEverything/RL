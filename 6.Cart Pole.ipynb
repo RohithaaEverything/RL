{
  "nbformat": 4,
  "nbformat_minor": 0,
  "metadata": {
    "colab": {
      "provenance": []
    },
    "kernelspec": {
      "name": "python3",
      "display_name": "Python 3"
    },
    "language_info": {
      "name": "python"
    }
  },
  "cells": [
    {
      "cell_type": "code",
      "execution_count": 1,
      "metadata": {
        "colab": {
          "base_uri": "https://localhost:8080/"
        },
        "id": "a8OntM2lmCSr",
        "outputId": "6f556a97-3a7f-42f5-c0e9-8ee6eebf44b6"
      },
      "outputs": [
        {
          "output_type": "stream",
          "name": "stdout",
          "text": [
            "Requirement already satisfied: gym in /usr/local/lib/python3.10/dist-packages (0.25.2)\n",
            "Requirement already satisfied: pygame in /usr/local/lib/python3.10/dist-packages (2.5.2)\n",
            "Requirement already satisfied: numpy>=1.18.0 in /usr/local/lib/python3.10/dist-packages (from gym) (1.25.2)\n",
            "Requirement already satisfied: cloudpickle>=1.2.0 in /usr/local/lib/python3.10/dist-packages (from gym) (2.2.1)\n",
            "Requirement already satisfied: gym-notices>=0.0.4 in /usr/local/lib/python3.10/dist-packages (from gym) (0.0.8)\n"
          ]
        }
      ],
      "source": [
        "import sys\n",
        "!{sys.executable} -m pip install gym pygame"
      ]
    },
    {
      "cell_type": "code",
      "source": [
        "import gym\n",
        "import pygame\n",
        "import tqdm\n",
        "\n",
        "env = gym.make(\"CartPole-v1\")\n",
        "\n",
        "print(f\"Action space: {env.action_space}\")\n",
        "print(f\"Observation space: {env.observation_space}\")"
      ],
      "metadata": {
        "colab": {
          "base_uri": "https://localhost:8080/"
        },
        "id": "i2jjKOJ3mxw5",
        "outputId": "3273065f-b201-47cc-e29d-4e5c5385a41f"
      },
      "execution_count": 2,
      "outputs": [
        {
          "output_type": "stream",
          "name": "stdout",
          "text": [
            "Action space: Discrete(2)\n",
            "Observation space: Box([-4.8000002e+00 -3.4028235e+38 -4.1887903e-01 -3.4028235e+38], [4.8000002e+00 3.4028235e+38 4.1887903e-01 3.4028235e+38], (4,), float32)\n"
          ]
        },
        {
          "output_type": "stream",
          "name": "stderr",
          "text": [
            "/usr/local/lib/python3.10/dist-packages/gym/core.py:317: DeprecationWarning: \u001b[33mWARN: Initializing wrapper in old step API which returns one bool instead of two. It is recommended to set `new_step_api=True` to use new step API. This will be the default behaviour in future.\u001b[0m\n",
            "  deprecation(\n",
            "/usr/local/lib/python3.10/dist-packages/gym/wrappers/step_api_compatibility.py:39: DeprecationWarning: \u001b[33mWARN: Initializing environment in old step API which returns one bool instead of two. It is recommended to set `new_step_api=True` to use new step API. This will be the default behaviour in future.\u001b[0m\n",
            "  deprecation(\n"
          ]
        }
      ]
    },
    {
      "cell_type": "code",
      "source": [
        "env.reset()\n",
        "\n",
        "done = False\n",
        "total_reward = 0\n",
        "while not done:\n",
        "   env.render()\n",
        "   obs, rew, done, info = env.step(env.action_space.sample())\n",
        "   total_reward += rew\n",
        "   print(f\"{obs} -> {rew}\")\n",
        "print(f\"Total reward: {total_reward}\")\n",
        "\n",
        "env.close()"
      ],
      "metadata": {
        "colab": {
          "base_uri": "https://localhost:8080/"
        },
        "id": "qBeInMz9mzO3",
        "outputId": "87bd2916-0c5a-423b-e334-7ab6251e06f0"
      },
      "execution_count": 3,
      "outputs": [
        {
          "output_type": "stream",
          "name": "stderr",
          "text": [
            "/usr/local/lib/python3.10/dist-packages/ipykernel/ipkernel.py:283: DeprecationWarning: `should_run_async` will not call `transform_cell` automatically in the future. Please pass the result to `transformed_cell` argument and any exception that happen during thetransform in `preprocessing_exc_tuple` in IPython 7.17 and above.\n",
            "  and should_run_async(code)\n",
            "/usr/local/lib/python3.10/dist-packages/gym/core.py:49: DeprecationWarning: \u001b[33mWARN: You are calling render method, but you didn't specified the argument render_mode at environment initialization. To maintain backward compatibility, the environment will render in human mode.\n",
            "If you want to render in human mode, initialize the environment in this way: gym.make('EnvName', render_mode='human') and don't call the render method.\n",
            "See here for more information: https://www.gymlibrary.ml/content/api/\u001b[0m\n",
            "  deprecation(\n",
            "/usr/local/lib/python3.10/dist-packages/gym/utils/passive_env_checker.py:241: DeprecationWarning: `np.bool8` is a deprecated alias for `np.bool_`.  (Deprecated NumPy 1.24)\n",
            "  if not isinstance(terminated, (bool, np.bool8)):\n"
          ]
        },
        {
          "output_type": "stream",
          "name": "stdout",
          "text": [
            "[-0.03634352  0.18985145  0.0123963  -0.29328677] -> 1.0\n",
            "[-0.03254649  0.38479447  0.00653057 -0.5820344 ] -> 1.0\n",
            "[-0.0248506   0.18958165 -0.00511012 -0.28730145] -> 1.0\n",
            "[-0.02105897  0.3847761  -0.01085615 -0.58159167] -> 1.0\n",
            "[-0.01336345  0.18980792 -0.02248798 -0.2923483 ] -> 1.0\n",
            "[-0.00956729  0.38524318 -0.02833495 -0.592038  ] -> 1.0\n",
            "[-0.00186242  0.19052911 -0.04017571 -0.30841348] -> 1.0\n",
            "[ 0.00194816  0.3861998  -0.04634398 -0.6134911 ] -> 1.0\n",
            "[ 0.00967215  0.19175506 -0.0586138  -0.33575743] -> 1.0\n",
            "[ 0.01350725 -0.00248588 -0.06532895 -0.06211898] -> 1.0\n",
            "[ 0.01345754 -0.19661328 -0.06657133  0.20925793] -> 1.0\n",
            "[ 0.00952527 -0.00060573 -0.06238617 -0.10365967] -> 1.0\n",
            "[ 0.00951316 -0.19478072 -0.06445936  0.16870655] -> 1.0\n",
            "[ 0.00561754 -0.38892365 -0.06108523  0.4403782 ] -> 1.0\n",
            "[-0.00216093 -0.5831303  -0.05227767  0.713197  ] -> 1.0\n",
            "[-0.01382354 -0.38732502 -0.03801373  0.4045277 ] -> 1.0\n",
            "[-0.02157004 -0.19168517 -0.02992317  0.10010657] -> 1.0\n",
            "[-0.02540374  0.00385256 -0.02792104 -0.20186484] -> 1.0\n",
            "[-0.02532669 -0.19085918 -0.03195834  0.08188122] -> 1.0\n",
            "[-0.02914387 -0.38550878 -0.03032072  0.36431238] -> 1.0\n",
            "[-0.03685405 -0.18996933 -0.02303447  0.06222509] -> 1.0\n",
            "[-0.04065343  0.00547518 -0.02178997 -0.23763543] -> 1.0\n",
            "[-0.04054393  0.20090155 -0.02654267 -0.53711116] -> 1.0\n",
            "[-0.0365259   0.39638644 -0.0372849  -0.8380378 ] -> 1.0\n",
            "[-0.02859817  0.20179296 -0.05404565 -0.5573097 ] -> 1.0\n",
            "[-0.02456231  0.3976303  -0.06519185 -0.8665185 ] -> 1.0\n",
            "[-0.01660971  0.20345323 -0.08252221 -0.5950244 ] -> 1.0\n",
            "[-0.01254064  0.00957732 -0.09442271 -0.3294342 ] -> 1.0\n",
            "[-0.0123491  -0.18408252 -0.10101139 -0.06795746] -> 1.0\n",
            "[-0.01603075  0.01233164 -0.10237054 -0.39072382] -> 1.0\n",
            "[-0.01578411  0.2087462  -0.11018501 -0.7138476 ] -> 1.0\n",
            "[-0.01160919  0.40520713 -0.12446196 -1.0390807 ] -> 1.0\n",
            "[-0.00350505  0.21193892 -0.14524359 -0.78791845] -> 1.0\n",
            "[ 0.00073373  0.01907875 -0.16100195 -0.5442259 ] -> 1.0\n",
            "[ 0.00111531  0.2160533  -0.17188647 -0.88299686] -> 1.0\n",
            "[ 0.00543637  0.02362999 -0.1895464  -0.6489014 ] -> 1.0\n",
            "[ 0.00590897 -0.16841678 -0.20252444 -0.4213842 ] -> 1.0\n",
            "[ 0.00254064  0.02891188 -0.21095212 -0.77046365] -> 1.0\n",
            "Total reward: 38.0\n"
          ]
        }
      ]
    },
    {
      "cell_type": "code",
      "source": [
        "import numpy as np\n",
        "import tensorflow as tf\n",
        "from tensorflow import keras\n",
        "import matplotlib.pyplot as plt\n",
        "\n",
        "num_inputs = 4\n",
        "num_actions = 2\n",
        "\n",
        "model = keras.Sequential([\n",
        "    keras.layers.Dense(128, activation=\"relu\",input_shape=(num_inputs,)),\n",
        "    keras.layers.Dense(num_actions, activation=\"softmax\")\n",
        "])\n",
        "\n",
        "model.compile(loss='categorical_crossentropy', optimizer=keras.optimizers.Adam(learning_rate=0.01))"
      ],
      "metadata": {
        "id": "bZ1FGqxom02G"
      },
      "execution_count": 4,
      "outputs": []
    },
    {
      "cell_type": "code",
      "source": [
        "def run_episode(max_steps_per_episode = 10000,render=False):\n",
        "    states, actions, probs, rewards = [],[],[],[]\n",
        "    state = env.reset()\n",
        "    for _ in range(max_steps_per_episode):\n",
        "        if render:\n",
        "            env.render()\n",
        "        action_probs = model(np.expand_dims(state,0))[0]\n",
        "        action = np.random.choice(num_actions, p=np.squeeze(action_probs))\n",
        "        nstate, reward, done, info = env.step(action)\n",
        "        if done:\n",
        "            break\n",
        "        states.append(state)\n",
        "        actions.append(action)\n",
        "        probs.append(action_probs)\n",
        "        rewards.append(reward)\n",
        "        state = nstate\n",
        "    return np.vstack(states), np.vstack(actions), np.vstack(probs), np.vstack(rewards)"
      ],
      "metadata": {
        "colab": {
          "base_uri": "https://localhost:8080/"
        },
        "id": "-1z3X-U4m5oF",
        "outputId": "80fd2d8b-b560-4b3b-efb5-2b536f4f0b60"
      },
      "execution_count": 5,
      "outputs": [
        {
          "output_type": "stream",
          "name": "stderr",
          "text": [
            "/usr/local/lib/python3.10/dist-packages/ipykernel/ipkernel.py:283: DeprecationWarning: `should_run_async` will not call `transform_cell` automatically in the future. Please pass the result to `transformed_cell` argument and any exception that happen during thetransform in `preprocessing_exc_tuple` in IPython 7.17 and above.\n",
            "  and should_run_async(code)\n"
          ]
        }
      ]
    },
    {
      "cell_type": "code",
      "source": [
        "s,a,p,r = run_episode()\n",
        "print(f\"Total reward: {np.sum(r)}\")"
      ],
      "metadata": {
        "colab": {
          "base_uri": "https://localhost:8080/"
        },
        "id": "WWMNRDyrm7GV",
        "outputId": "5896345b-d194-4a2f-cf20-38b666369406"
      },
      "execution_count": 6,
      "outputs": [
        {
          "output_type": "stream",
          "name": "stdout",
          "text": [
            "Total reward: 22.0\n"
          ]
        }
      ]
    },
    {
      "cell_type": "code",
      "source": [
        "eps = 0.0001\n",
        "\n",
        "def discounted_rewards(rewards,gamma=0.99,normalize=True):\n",
        "    ret = []\n",
        "    s = 0\n",
        "    for r in rewards[::-1]:\n",
        "        s = r + gamma * s\n",
        "        ret.insert(0, s)\n",
        "    if normalize:\n",
        "        ret = (ret-np.mean(ret))/(np.std(ret)+eps)\n",
        "    return ret"
      ],
      "metadata": {
        "id": "Pkj1R7khm82H"
      },
      "execution_count": 7,
      "outputs": []
    },
    {
      "cell_type": "code",
      "source": [
        "alpha = 1e-4\n",
        "\n",
        "history = []\n",
        "for epoch in range(300):\n",
        "    states, actions, probs, rewards = run_episode()\n",
        "    one_hot_actions = np.eye(2)[actions.T][0]\n",
        "    gradients = one_hot_actions-probs\n",
        "    dr = discounted_rewards(rewards)\n",
        "    gradients *= dr\n",
        "    target = alpha*np.vstack([gradients])+probs\n",
        "    model.train_on_batch(states,target)\n",
        "    history.append(np.sum(rewards))\n",
        "    if epoch%100==0:\n",
        "        print(f\"{epoch} -> {np.sum(rewards)}\")\n",
        "\n",
        "plt.plot(history)"
      ],
      "metadata": {
        "colab": {
          "base_uri": "https://localhost:8080/",
          "height": 499
        },
        "id": "TEaSQnKcm-P8",
        "outputId": "99cd2022-1064-4a91-e1f0-e8aab08721aa"
      },
      "execution_count": 8,
      "outputs": [
        {
          "output_type": "stream",
          "name": "stdout",
          "text": [
            "0 -> 32.0\n",
            "100 -> 196.0\n",
            "200 -> 307.0\n"
          ]
        },
        {
          "output_type": "execute_result",
          "data": {
            "text/plain": [
              "[<matplotlib.lines.Line2D at 0x79204bec65c0>]"
            ]
          },
          "metadata": {},
          "execution_count": 8
        },
        {
          "output_type": "display_data",
          "data": {
            "text/plain": [
              "<Figure size 640x480 with 1 Axes>"
            ],
            "image/png": "[encoded data removed]"
          },
          "metadata": {}
        }
      ]
    },
    {
      "cell_type": "code",
      "source": [
        "import gym\n",
        "\n",
        "# Create the environment\n",
        "env = gym.make('CartPole-v1')\n",
        "\n",
        "# Run an episode\n",
        "observation = env.reset()\n",
        "done = False\n",
        "while not done:\n",
        "    action = env.action_space.sample()\n",
        "    observation, reward, done, info = env.step(action)\n",
        "\n",
        "# Close the environment\n",
        "env.close()"
      ],
      "metadata": {
        "colab": {
          "base_uri": "https://localhost:8080/"
        },
        "id": "z9eiL9YdnBiB",
        "outputId": "8dd83e10-bfa2-4659-a657-873272c26ae4"
      },
      "execution_count": 9,
      "outputs": [
        {
          "output_type": "stream",
          "name": "stderr",
          "text": [
            "/usr/local/lib/python3.10/dist-packages/gym/core.py:317: DeprecationWarning: \u001b[33mWARN: Initializing wrapper in old step API which returns one bool instead of two. It is recommended to set `new_step_api=True` to use new step API. This will be the default behaviour in future.\u001b[0m\n",
            "  deprecation(\n",
            "/usr/local/lib/python3.10/dist-packages/gym/wrappers/step_api_compatibility.py:39: DeprecationWarning: \u001b[33mWARN: Initializing environment in old step API which returns one bool instead of two. It is recommended to set `new_step_api=True` to use new step API. This will be the default behaviour in future.\u001b[0m\n",
            "  deprecation(\n",
            "/usr/local/lib/python3.10/dist-packages/gym/utils/passive_env_checker.py:241: DeprecationWarning: `np.bool8` is a deprecated alias for `np.bool_`.  (Deprecated NumPy 1.24)\n",
            "  if not isinstance(terminated, (bool, np.bool8)):\n"
          ]
        }
      ]
    },
    {
      "cell_type": "code",
      "source": [
        "env.render()"
      ],
      "metadata": {
        "colab": {
          "base_uri": "https://localhost:8080/"
        },
        "id": "aKdxAN9fnDUU",
        "outputId": "44763990-0e5c-4172-81dc-95950036db4c"
      },
      "execution_count": 10,
      "outputs": [
        {
          "output_type": "stream",
          "name": "stderr",
          "text": [
            "/usr/local/lib/python3.10/dist-packages/gym/core.py:49: DeprecationWarning: \u001b[33mWARN: You are calling render method, but you didn't specified the argument render_mode at environment initialization. To maintain backward compatibility, the environment will render in human mode.\n",
            "If you want to render in human mode, initialize the environment in this way: gym.make('EnvName', render_mode='human') and don't call the render method.\n",
            "See here for more information: https://www.gymlibrary.ml/content/api/\u001b[0m\n",
            "  deprecation(\n"
          ]
        }
      ]
    },
    {
      "cell_type": "code",
      "source": [
        "_ = run_episode(render=True)"
      ],
      "metadata": {
        "id": "Z1eWRSponE_d"
      },
      "execution_count": 11,
      "outputs": []
    },
    {
      "cell_type": "code",
      "source": [
        "num_inputs = 4\n",
        "num_actions = 2\n",
        "num_hidden = 128\n",
        "\n",
        "inputs = keras.layers.Input(shape=(num_inputs,))\n",
        "common = keras.layers.Dense(num_hidden, activation=\"relu\")(inputs)\n",
        "action = keras.layers.Dense(num_actions, activation=\"softmax\")(common)\n",
        "critic = keras.layers.Dense(1)(common)\n",
        "\n",
        "model = keras.Model(inputs=inputs, outputs=[action, critic])"
      ],
      "metadata": {
        "id": "rIjB9qt9nGJ9"
      },
      "execution_count": 12,
      "outputs": []
    },
    {
      "cell_type": "code",
      "source": [
        "def run_episode(max_steps_per_episode = 10000,render=False):\n",
        "    states, actions, probs, rewards, critic = [],[],[],[],[]\n",
        "    state = env.reset()\n",
        "    for _ in range(max_steps_per_episode):\n",
        "        if render:\n",
        "            env.render()\n",
        "        action_probs, est_rew = model(np.expand_dims(state,0))\n",
        "        action = np.random.choice(num_actions, p=np.squeeze(action_probs[0]))\n",
        "        nstate, reward, done, info = env.step(action)\n",
        "        if done:\n",
        "            break\n",
        "        states.append(state)\n",
        "        actions.append(action)\n",
        "        probs.append(tf.math.log(action_probs[0,action]))\n",
        "        rewards.append(reward)\n",
        "        critic.append(est_rew[0,0])\n",
        "        state = nstate\n",
        "    return states, actions, probs, rewards, critic"
      ],
      "metadata": {
        "id": "FexIX6ZGnJcu"
      },
      "execution_count": 13,
      "outputs": []
    },
    {
      "cell_type": "code",
      "source": [
        "optimizer = keras.optimizers.Adam(learning_rate=0.01)\n",
        "huber_loss = keras.losses.Huber()\n",
        "episode_count = 0\n",
        "running_reward = 0\n",
        "\n",
        "while True:  # Run until solved\n",
        "    state = env.reset()\n",
        "    episode_reward = 0\n",
        "    with tf.GradientTape() as tape:\n",
        "        _,_,action_probs, rewards, critic_values = run_episode()\n",
        "        episode_reward = np.sum(rewards)\n",
        "\n",
        "        # Update running reward to check condition for solving\n",
        "        running_reward = 0.05 * episode_reward + (1 - 0.05) * running_reward\n",
        "\n",
        "        # Calculate discounted rewards that will be labels for our critic\n",
        "        dr = discounted_rewards(rewards)\n",
        "\n",
        "        # Calculating loss values to update our network\n",
        "        actor_losses = []\n",
        "        critic_losses = []\n",
        "        for log_prob, value, rew in zip(action_probs, critic_values, dr):\n",
        "            # When we took the action with probability `log_prob`, we received discounted reward of `rew`,\n",
        "            # while critic predicted it to be `value`\n",
        "            # First we calculate actor loss, to make actor predict actions that lead to higher rewards\n",
        "            diff = rew - value\n",
        "            actor_losses.append(-log_prob * diff)\n",
        "\n",
        "            # The critic loss is to minimize the difference between predicted reward `value` and actual\n",
        "            # discounted reward `rew`\n",
        "            critic_losses.append(\n",
        "                huber_loss(tf.expand_dims(value, 0), tf.expand_dims(rew, 0))\n",
        "            )\n",
        "\n",
        "        # Backpropagation\n",
        "        loss_value = sum(actor_losses) + sum(critic_losses)\n",
        "        grads = tape.gradient(loss_value, model.trainable_variables)\n",
        "        optimizer.apply_gradients(zip(grads, model.trainable_variables))\n",
        "\n",
        "    # Log details\n",
        "    episode_count += 1\n",
        "    if episode_count % 10 == 0:\n",
        "        template = \"running reward: {:.2f} at episode {}\"\n",
        "        print(template.format(running_reward, episode_count))\n",
        "\n",
        "    if running_reward > 195:  # Condition to consider the task solved\n",
        "        print(\"Solved at episode {}!\".format(episode_count))\n",
        "        break"
      ],
      "metadata": {
        "colab": {
          "base_uri": "https://localhost:8080/"
        },
        "id": "08V6-9RhnKz-",
        "outputId": "6925f77c-df86-47a1-9c22-651b73f33499"
      },
      "execution_count": 14,
      "outputs": [
        {
          "output_type": "stream",
          "name": "stdout",
          "text": [
            "running reward: 12.74 at episode 10\n",
            "running reward: 15.93 at episode 20\n",
            "running reward: 15.16 at episode 30\n",
            "running reward: 15.16 at episode 40\n",
            "running reward: 17.53 at episode 50\n",
            "running reward: 22.95 at episode 60\n",
            "running reward: 30.11 at episode 70\n",
            "running reward: 35.52 at episode 80\n",
            "running reward: 32.44 at episode 90\n",
            "running reward: 29.92 at episode 100\n",
            "running reward: 35.61 at episode 110\n",
            "running reward: 42.74 at episode 120\n",
            "running reward: 44.46 at episode 130\n",
            "running reward: 44.74 at episode 140\n",
            "running reward: 51.37 at episode 150\n",
            "running reward: 60.58 at episode 160\n",
            "running reward: 81.09 at episode 170\n",
            "running reward: 130.16 at episode 180\n",
            "running reward: 140.69 at episode 190\n",
            "running reward: 92.01 at episode 200\n",
            "running reward: 71.10 at episode 210\n",
            "running reward: 54.30 at episode 220\n",
            "running reward: 52.13 at episode 230\n",
            "running reward: 92.43 at episode 240\n",
            "running reward: 131.62 at episode 250\n",
            "running reward: 119.97 at episode 260\n",
            "running reward: 120.06 at episode 270\n",
            "running reward: 160.15 at episode 280\n",
            "Solved at episode 285!\n"
          ]
        }
      ]
    },
    {
      "cell_type": "code",
      "source": [
        "_ = run_episode(render=True)"
      ],
      "metadata": {
        "id": "ZtF3HKIInMPz"
      },
      "execution_count": 15,
      "outputs": []
    },
    {
      "cell_type": "code",
      "source": [
        "env.close()"
      ],
      "metadata": {
        "id": "AKnE4FCfnOon"
      },
      "execution_count": 16,
      "outputs": []
    },
    {
      "cell_type": "code",
      "source": [],
      "metadata": {
        "id": "p-mW4NVjnQBF"
      },
      "execution_count": null,
      "outputs": []
    }
  ]
}